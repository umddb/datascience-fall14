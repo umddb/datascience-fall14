{
 "metadata": {
  "name": "Lab1"
 },
 "nbformat": 3,
 "nbformat_minor": 0,
 "worksheets": [
  {
   "cells": [
    {
     "cell_type": "code",
     "collapsed": false,
     "input": "import numpy as np\n%pylab inline\nimport matplotlib.pyplot as plt\nfrom sklearn.datasets import load_iris, load_boston, load_diabetes, load_digits\n\niris = load_iris()\nboston = load_boston()\ndiabetes = load_diabetes()\ndigits = load_digits()\n",
     "language": "python",
     "metadata": {},
     "outputs": [
      {
       "output_type": "stream",
       "stream": "stdout",
       "text": "Populating the interactive namespace from numpy and matplotlib\n"
      }
     ],
     "prompt_number": 1
    },
    {
     "cell_type": "code",
     "collapsed": false,
     "input": "iris.keys()",
     "language": "python",
     "metadata": {},
     "outputs": [
      {
       "metadata": {},
       "output_type": "pyout",
       "prompt_number": 2,
       "text": "['target_names', 'data', 'target', 'DESCR', 'feature_names']"
      }
     ],
     "prompt_number": 2
    },
    {
     "cell_type": "code",
     "collapsed": false,
     "input": "boston.keys()",
     "language": "python",
     "metadata": {},
     "outputs": [
      {
       "metadata": {},
       "output_type": "pyout",
       "prompt_number": 3,
       "text": "['data', 'feature_names', 'DESCR', 'target']"
      }
     ],
     "prompt_number": 3
    },
    {
     "cell_type": "code",
     "collapsed": false,
     "input": "diabetes.keys()",
     "language": "python",
     "metadata": {},
     "outputs": [
      {
       "metadata": {},
       "output_type": "pyout",
       "prompt_number": 4,
       "text": "['data', 'target']"
      }
     ],
     "prompt_number": 4
    },
    {
     "cell_type": "code",
     "collapsed": false,
     "input": "digits.keys()",
     "language": "python",
     "metadata": {},
     "outputs": [
      {
       "metadata": {},
       "output_type": "pyout",
       "prompt_number": 5,
       "text": "['images', 'data', 'target_names', 'DESCR', 'target']"
      }
     ],
     "prompt_number": 5
    },
    {
     "cell_type": "code",
     "collapsed": false,
     "input": "n_samples, n_features = boston.data.shape\nprint 'Number of samples = ', n_samples\nprint 'Number of features = ', n_features",
     "language": "python",
     "metadata": {},
     "outputs": [
      {
       "output_type": "stream",
       "stream": "stdout",
       "text": "Number of samples =  506\nNumber of features =  13\n"
      }
     ],
     "prompt_number": 6
    },
    {
     "cell_type": "code",
     "collapsed": false,
     "input": "print boston.DESCR",
     "language": "python",
     "metadata": {},
     "outputs": [
      {
       "output_type": "stream",
       "stream": "stdout",
       "text": "Boston House Prices dataset\n\nNotes\n------\nData Set Characteristics:  \n\n    :Number of Instances: 506 \n\n    :Number of Attributes: 13 numeric/categorical predictive\n    \n    :Median Value (attribute 14) is usually the target\n\n    :Attribute Information (in order):\n        - CRIM     per capita crime rate by town\n        - ZN       proportion of residential land zoned for lots over 25,000 sq.ft.\n        - INDUS    proportion of non-retail business acres per town\n        - CHAS     Charles River dummy variable (= 1 if tract bounds river; 0 otherwise)\n        - NOX      nitric oxides concentration (parts per 10 million)\n        - RM       average number of rooms per dwelling\n        - AGE      proportion of owner-occupied units built prior to 1940\n        - DIS      weighted distances to five Boston employment centres\n        - RAD      index of accessibility to radial highways\n        - TAX      full-value property-tax rate per $10,000\n        - PTRATIO  pupil-teacher ratio by town\n        - B        1000(Bk - 0.63)^2 where Bk is the proportion of blacks by town\n        - LSTAT    % lower status of the population\n        - MEDV     Median value of owner-occupied homes in $1000's\n\n    :Missing Attribute Values: None\n\n    :Creator: Harrison, D. and Rubinfeld, D.L.\n\nThis is a copy of UCI ML housing dataset.\nhttp://archive.ics.uci.edu/ml/datasets/Housing\n\n\nThis dataset was taken from the StatLib library which is maintained at Carnegie Mellon University.\n\nThe Boston house-price data of Harrison, D. and Rubinfeld, D.L. 'Hedonic\nprices and the demand for clean air', J. Environ. Economics & Management,\nvol.5, 81-102, 1978.   Used in Belsley, Kuh & Welsch, 'Regression diagnostics\n...', Wiley, 1980.   N.B. Various transformations are used in the table on\npages 244-261 of the latter.\n\nThe Boston house-price data has been used in many machine learning papers that address regression\nproblems.   \n     \n**References**\n\n   - Belsley, Kuh & Welsch, 'Regression diagnostics: Identifying Influential Data and Sources of Collinearity', Wiley, 1980. 244-261.\n   - Quinlan,R. (1993). Combining Instance-Based and Model-Based Learning. In Proceedings on the Tenth International Conference of Machine Learning, 236-243, University of Massachusetts, Amherst. Morgan Kaufmann.\n   - many more! (see http://archive.ics.uci.edu/ml/datasets/Housing)\n\n"
      }
     ],
     "prompt_number": 7
    },
    {
     "cell_type": "raw",
     "metadata": {},
     "source": "Exercise 1\n5 dataset features of boston: \n    1. CRIM     per capita crime rate by town\n    2. ZN       proportion of residential land zoned for lots over 25,000 sq.ft.\n    3. INDUS    proportion of non-retail business acres per town\n    4. CHAS     Charles River dummy variable (= 1 if tract bounds river; 0 otherwise)\n    5. NOX      nitric oxides concentration (parts per 10 million)"
    },
    {
     "cell_type": "code",
     "collapsed": false,
     "input": "x = boston.data[1]\ny = boston.data[12]\n\nplt.scatter(x,y)\nplt.title('Per capita crime rate vs. Median value of owner-occupied homes (in 1000\\'s)')\nplt.xlabel('Per capita crime rate')\nplt.ylabel('Median value of homes (in 1000\\'s)')",
     "language": "python",
     "metadata": {},
     "outputs": [
      {
       "metadata": {},
       "output_type": "pyout",
       "prompt_number": 8,
       "text": "<matplotlib.text.Text at 0xb0882c0c>"
      },
      {
       "metadata": {},
       "output_type": "display_data",
       "png": "[encoded data removed]",
       "text": "<matplotlib.figure.Figure at 0xb085d70c>"
      }
     ],
     "prompt_number": 8
    },
    {
     "cell_type": "code",
     "collapsed": false,
     "input": "from sklearn.linear_model import LinearRegression\n\ndiabetes_X_train = diabetes.data[:-20]\ndiabetes_X_test = diabetes.data[-20:]\n\ndiabetes_y_train = diabetes.target[:-20]\ndiabetes_y_test = diabetes.target[-20:]\n\nregr = LinearRegression()\nregr.fit(diabetes_X_train, diabetes_y_train)",
     "language": "python",
     "metadata": {},
     "outputs": [
      {
       "metadata": {},
       "output_type": "pyout",
       "prompt_number": 9,
       "text": "LinearRegression(copy_X=True, fit_intercept=True, normalize=False)"
      }
     ],
     "prompt_number": 9
    },
    {
     "cell_type": "code",
     "collapsed": false,
     "input": "print 'Coefficients:', regr.coef_\nprint(\"Residual sum of squares: %.2f\"\n      % np.mean((regr.predict(diabetes_X_test) - diabetes_y_test) ** 2))",
     "language": "python",
     "metadata": {},
     "outputs": [
      {
       "output_type": "stream",
       "stream": "stdout",
       "text": "Coefficients: [  3.03499549e-01  -2.37639315e+02   5.10530605e+02   3.27736980e+02\n  -8.14131709e+02   4.92814588e+02   1.02848452e+02   1.84606489e+02\n   7.43519617e+02   7.60951722e+01]\nResidual sum of squares: 2004.57\n"
      }
     ],
     "prompt_number": 10
    },
    {
     "cell_type": "raw",
     "metadata": {},
     "source": "Exercise 2.1 \nYes, using all the availble features improved the estimator's performance"
    },
    {
     "cell_type": "code",
     "collapsed": false,
     "input": "%precision %.6g\nfrom sklearn.feature_selection import RFE\nrfearr = np.empty([10,10])\nrfearr[0] = [0,0,0,0,0,0,0,0,0,0] \n\nfor x in range(1,10):\n    rfe = RFE(estimator=regr, n_features_to_select = x, step = 1)\n    rfe.fit(diabetes_X_train, diabetes_y_train)\n    rfearr[x] = rfe.ranking_\n    \nprint rfearr",
     "language": "python",
     "metadata": {},
     "outputs": [
      {
       "output_type": "stream",
       "stream": "stdout",
       "text": "[[  0.   0.   0.   0.   0.   0.   0.   0.   0.   0.]\n [ 10.   6.   1.   5.   3.   4.   8.   7.   2.   9.]\n [  9.   5.   1.   4.   2.   3.   7.   6.   1.   8.]\n [  8.   4.   1.   3.   1.   2.   6.   5.   1.   7.]\n [  7.   3.   1.   2.   1.   1.   5.   4.   1.   6.]\n [  6.   2.   1.   1.   1.   1.   4.   3.   1.   5.]\n [  5.   1.   1.   1.   1.   1.   3.   2.   1.   4.]\n [  4.   1.   1.   1.   1.   1.   2.   1.   1.   3.]\n [  3.   1.   1.   1.   1.   1.   1.   1.   1.   2.]\n [  2.   1.   1.   1.   1.   1.   1.   1.   1.   1.]]\n"
      }
     ],
     "prompt_number": 11
    },
    {
     "cell_type": "code",
     "collapsed": false,
     "input": "msearr = np.empty([10,1])\nfeatarr = np.array([2,8,4,5,3,1,7,6,9,0])\n\n#initialize\ndiabetes_X = diabetes.data[:, np.newaxis]\na = diabetes_X[:,:,featarr[0]]\n\n#loop through feature rankings and calculate mse\nfor x in range(0,10):  \n    diabetes_X = diabetes.data[:, np.newaxis]\n    b = diabetes_X[:,:,featarr[x]]\n    diabetes_X_temp = np.concatenate((a,b), axis = 1)\n    a = diabetes_X_temp\n    \n    diabetes_X_train = diabetes_X_temp[:-20]\n    diabetes_X_test = diabetes_X_temp[-20:]\n    \n    diabetes_y_train = diabetes.target[:-20]\n    diabetes_y_test = diabetes.target[-20:]\n    \n    regr = LinearRegression()\n    regr.fit(diabetes_X_train, diabetes_y_train)\n    \n    msearr[x] = np.mean((regr.predict(diabetes_X_test) - diabetes_y_test) ** 2)\n\nprint msearr",
     "language": "python",
     "metadata": {},
     "outputs": [
      {
       "output_type": "stream",
       "stream": "stdout",
       "text": "[[ 2548.07239873]\n [ 1984.50821529]\n [ 1887.60334722]\n [ 1948.35283236]\n [ 2097.22193862]\n [ 1948.28388867]\n [ 1961.00781569]\n [ 1962.53610717]\n [ 2004.30415367]\n [ 2004.56760269]]\n"
      }
     ],
     "prompt_number": 12
    },
    {
     "cell_type": "raw",
     "metadata": {},
     "source": "Optimal features is 3"
    },
    {
     "cell_type": "code",
     "collapsed": false,
     "input": "xaxis = np.array([1,2,3,4,5,6,7,8,9,10])\n\nplt.scatter(xaxis, msearr)\nplt.title(\"MSE vs Number of Features\")\nplt.xlabel(\"Number of Features\")\nplt.ylabel(\"MSE\")",
     "language": "python",
     "metadata": {},
     "outputs": [
      {
       "metadata": {},
       "output_type": "pyout",
       "prompt_number": 13,
       "text": "<matplotlib.text.Text at 0xb01adaec>"
      },
      {
       "metadata": {},
       "output_type": "display_data",
       "png": "[encoded data removed]",
       "text": "<matplotlib.figure.Figure at 0xb08d1bcc>"
      }
     ],
     "prompt_number": 13
    },
    {
     "cell_type": "code",
     "collapsed": false,
     "input": "\nfrom sklearn.cross_validation import train_test_split\ntsarr = np.array([.8,.6,.4,.2])\n\nmse_data = np.empty([4, 1])\n\nboston = load_boston()\n\nfor x in range(0,4):\n    bd_train, bd_test, bt_train, bt_test = train_test_split(\n                boston.data, boston.target, test_size=tsarr[x], random_state=0)\n\n    regr = LinearRegression()\n    regr.fit(bd_train, bt_train)\n    \n    mse_data[x] = np.mean((regr.predict(bd_test) - bt_test) ** 2)\n\nxaxis = np.array([1,2,3,4])    \n\nprint mse_data",
     "language": "python",
     "metadata": {},
     "outputs": [
      {
       "output_type": "stream",
       "stream": "stdout",
       "text": "[[ 28.58470861]\n [ 24.5612352 ]\n [ 25.79716486]\n [ 33.45070897]]\n"
      }
     ],
     "prompt_number": 14
    },
    {
     "cell_type": "code",
     "collapsed": false,
     "input": "plt.scatter(xaxis, mse_data)",
     "language": "python",
     "metadata": {},
     "outputs": [
      {
       "metadata": {},
       "output_type": "pyout",
       "prompt_number": 15,
       "text": "<matplotlib.collections.PathCollection at 0xb01473cc>"
      },
      {
       "metadata": {},
       "output_type": "display_data",
       "png": "[encoded data removed]",
       "text": "<matplotlib.figure.Figure at 0xb01b806c>"
      }
     ],
     "prompt_number": 15
    },
    {
     "cell_type": "code",
     "collapsed": false,
     "input": "%precision %.6g\nfrom sklearn.feature_selection import RFE\nrfearr = np.empty([13,13])\n\nbd_train, bd_test, bt_train, bt_test = train_test_split(\n            boston.data, boston.target, test_size=.2, random_state=0)\n\nprint bd_train.shape\n\nfor x in range(1,13):\n    rfe = RFE(estimator=regr, n_features_to_select = x, step = 1)\n    rfe.fit(bd_train, bt_train)\n    rfearr[x] = rfe.ranking_\n    \nrfearr[0] = [0,0,0,0,0,0,0,0,0,0,0,0,0]    \nprint rfearr",
     "language": "python",
     "metadata": {},
     "outputs": [
      {
       "output_type": "stream",
       "stream": "stdout",
       "text": "(404, 13)\n[[  0.   0.   0.   0.   0.   0.   0.   0.   0.   0.   0.   0.   0.]\n [  7.   9.  12.   3.   1.   2.  13.   5.   8.  10.   4.  11.   6.]\n [  6.   8.  11.   2.   1.   1.  12.   4.   7.   9.   3.  10.   5.]\n [  5.   7.  10.   1.   1.   1.  11.   3.   6.   8.   2.   9.   4.]\n [  4.   6.   9.   1.   1.   1.  10.   2.   5.   7.   1.   8.   3.]\n [  3.   5.   8.   1.   1.   1.   9.   1.   4.   6.   1.   7.   2.]\n [  2.   4.   7.   1.   1.   1.   8.   1.   3.   5.   1.   6.   1.]\n [  1.   3.   6.   1.   1.   1.   7.   1.   2.   4.   1.   5.   1.]\n [  1.   2.   5.   1.   1.   1.   6.   1.   1.   3.   1.   4.   1.]\n [  1.   1.   4.   1.   1.   1.   5.   1.   1.   2.   1.   3.   1.]\n [  1.   1.   3.   1.   1.   1.   4.   1.   1.   1.   1.   2.   1.]\n [  1.   1.   2.   1.   1.   1.   3.   1.   1.   1.   1.   1.   1.]\n [  1.   1.   1.   1.   1.   1.   2.   1.   1.   1.   1.   1.   1.]]"
      },
      {
       "output_type": "stream",
       "stream": "stdout",
       "text": "\n"
      }
     ],
     "prompt_number": 16
    },
    {
     "cell_type": "code",
     "collapsed": false,
     "input": "msearr = np.empty([13,1])\nfeatarr = np.array([4,5,3,10,7,12,0,8,1,9,11,2,6])\n\n#initialize\nboston_X = boston.data[:, np.newaxis]\na = boston_X[:,:,featarr[0]]\n\n#loop through feature rankings and calculate mse\nfor x in range(0,13):  \n    boston_X = boston.data[:, np.newaxis]\n    b = boston_X[:,:,featarr[x]]\n    boston_X_temp = np.concatenate((a,b), axis = 1)\n    a = boston_X_temp\n    \n    boston_X_train, boston_X_test, boston_y_train, boston_y_test = train_test_split(\n                     boston_X_temp, boston.target, test_size = .2, random_state = 0)\n    \n    regr = LinearRegression()\n    regr.fit(boston_X_train, boston_y_train)\n    \n    msearr[x] = np.mean((regr.predict(boston_X_test) - boston_y_test) ** 2)\n\nprint msearr",
     "language": "python",
     "metadata": {},
     "outputs": [
      {
       "output_type": "stream",
       "stream": "stdout",
       "text": "[[ 76.95375968]\n [ 47.88168127]\n [ 44.33588782]\n [ 47.69992843]\n [ 44.35034518]\n [ 36.75505453]\n [ 36.9027522 ]\n [ 35.79018516]\n [ 35.39825181]\n [ 34.41907789]\n [ 33.42768679]\n [ 33.41365565]\n [ 33.45070897]]\n"
      }
     ],
     "prompt_number": 18
    },
    {
     "cell_type": "raw",
     "metadata": {},
     "source": "Optimal number of features is 12, and those features are 4,5,3,10,7,12,0,8,1,9,11,2 (based on 0 index)"
    },
    {
     "cell_type": "code",
     "collapsed": false,
     "input": "tsarr = np.array([.8,.6,.4,.2])\n\nmse_data = np.empty([4, 1])\nfeatarr = np.array([4,5,3,10,7,12,0,8,1,9,11,2,6])\n\n#initialize\nboston_X = boston.data[:, np.newaxis]\na = boston_X[:,:,featarr[0]]\n\nboston = load_boston()\n\nfor x in range(0,11):  \n    boston_X = boston.data[:, np.newaxis]\n    b = boston_X[:,:,featarr[x]]\n    boston_X_temp = np.concatenate((a,b), axis = 1)\n    a = boston_X_temp\n    \nfor x in range(0,4):    \n    bd_train, bd_test, bt_train, bt_test = train_test_split(\n                a, boston.target, test_size=tsarr[x], random_state=0)\n\n    regr = LinearRegression()\n    regr.fit(bd_train, bt_train)\n    \n    mse_data[x] = np.mean((regr.predict(bd_test) - bt_test) ** 2)\n\nxaxis = np.array([1,2,3,4])    \n\nprint mse_data",
     "language": "python",
     "metadata": {},
     "outputs": [
      {
       "output_type": "stream",
       "stream": "stdout",
       "text": "[[ 28.05770343]\n [ 24.43604433]\n [ 25.68768999]\n [ 33.42768679]]\n"
      }
     ],
     "prompt_number": 19
    },
    {
     "cell_type": "code",
     "collapsed": false,
     "input": "plt.scatter(xaxis, mse_data)",
     "language": "python",
     "metadata": {},
     "outputs": [
      {
       "metadata": {},
       "output_type": "pyout",
       "prompt_number": 20,
       "text": "<matplotlib.collections.PathCollection at 0xb0122fcc>"
      },
      {
       "metadata": {},
       "output_type": "display_data",
       "png": "[encoded data removed]",
       "text": "<matplotlib.figure.Figure at 0xb015194c>"
      }
     ],
     "prompt_number": 20
    },
    {
     "cell_type": "code",
     "collapsed": false,
     "input": "from sklearn import svm\n\niris = load_iris()\n\nX = iris.data\ny = iris.target",
     "language": "python",
     "metadata": {},
     "outputs": [],
     "prompt_number": 21
    },
    {
     "cell_type": "code",
     "collapsed": false,
     "input": "X_train, X_test, y_train, y_test = train_test_split(\n                X, y, test_size=.2)",
     "language": "python",
     "metadata": {},
     "outputs": [],
     "prompt_number": 22
    },
    {
     "cell_type": "code",
     "collapsed": false,
     "input": "clf_linear = svm.SVC(kernel='linear')\n\nclf_linear.fit(X_train, y_train)\n\npred = clf_linear.predict(X_test)\n\nerrors = 0.0\nfor i in range(len(pred)):\n    if pred[i] != y_test[i]:\n        errors += 1.0\nprint \"Test data errors = \",errors, \"out of\", len(pred), \"predictions\"\n\ntotal_pred = clf_linear.predict(X)\nerrors = 0.0\nfor i in range(len(total_pred)):\n    if total_pred[i] != y[i]:\n        errors += 1.0\nprint \"Total errors = \",errors, \"out of\", len(total_pred), \"predictions\"",
     "language": "python",
     "metadata": {},
     "outputs": [
      {
       "output_type": "stream",
       "stream": "stdout",
       "text": "Test data errors =  2.0 out of 30 predictions\nTotal errors =  3.0 out of 150 predictions\n"
      }
     ],
     "prompt_number": 23
    },
    {
     "cell_type": "code",
     "collapsed": false,
     "input": "clf_non_linear = svm.SVC(kernel='rbf')\n\nclf_non_linear.fit(X_train,y_train)\n\npred = clf_non_linear.predict(X_test)\n\nerrors = 0.0\nfor i in range(len(pred)):\n    if pred[i] != y_test[i]:\n        errors += 1.0\nprint \"Test data errors = \",errors, \"out of\", len(pred), \"predictions\"\n\ntotal_pred = clf_non_linear.predict(X)\nerrors = 0.0\nfor i in range(len(total_pred)):\n    if total_pred[i] != y[i]:\n        errors += 1.0\nprint \"Total errors = \",errors, \"out of\", len(total_pred), \"predictions\"",
     "language": "python",
     "metadata": {},
     "outputs": [
      {
       "output_type": "stream",
       "stream": "stdout",
       "text": "Test data errors =  1.0 out of 30 predictions\nTotal errors =  3.0 out of 150 predictions\n"
      }
     ],
     "prompt_number": 24
    },
    {
     "cell_type": "code",
     "collapsed": false,
     "input": "from sklearn.tree import DecisionTreeClassifier",
     "language": "python",
     "metadata": {},
     "outputs": [],
     "prompt_number": 25
    },
    {
     "cell_type": "code",
     "collapsed": false,
     "input": "clf = DecisionTreeClassifier(random_state = 0)\n\nclf.fit(X_train,y_train)\n\npred = clf.predict(X_test)\nerrors = 0.0\nfor i in range(len(pred)):\n    if pred[i] != y_test[i]:\n        errors += 1.0\nprint \"Test data errors = \",errors, \"out of\", len(pred), \"predictions\"\n\ntotal_pred = clf.predict(X)\nerrors = 0.0\nfor i in range(len(total_pred)):\n    if total_pred[i] != y[i]:\n        errors += 1.0\nprint \"Total errors = \",errors, \"out of\", len(total_pred), \"predictions\"",
     "language": "python",
     "metadata": {},
     "outputs": [
      {
       "output_type": "stream",
       "stream": "stdout",
       "text": "Test data errors =  3.0 out of 30 predictions\nTotal errors =  3.0 out of 150 predictions\n"
      }
     ],
     "prompt_number": 26
    },
    {
     "cell_type": "code",
     "collapsed": false,
     "input": "from sklearn.datasets import make_classification\n\niris = load_iris()\n\nX = iris.data\ny = iris.target",
     "language": "python",
     "metadata": {},
     "outputs": [],
     "prompt_number": 27
    },
    {
     "cell_type": "code",
     "collapsed": false,
     "input": "from sklearn.cluster import KMeans\nfrom sklearn import metrics\n\nkmeans = KMeans(init='random', n_clusters = 3, n_init=10)\nkmeans.fit(X)\n\nprint \"Homogeneity_score = \",metrics.homogeneity_score(y,kmeans.labels_)\n\nprint \"Completeness_score = \",metrics.completeness_score(y,kmeans.labels_)",
     "language": "python",
     "metadata": {},
     "outputs": [
      {
       "output_type": "stream",
       "stream": "stdout",
       "text": "Homogeneity_score =  0.751485402199\nCompleteness_score =  0.764986151449\n"
      }
     ],
     "prompt_number": 31
    },
    {
     "cell_type": "code",
     "collapsed": false,
     "input": "clf = DecisionTreeClassifier(random_state = 0)\n\nclf.fit(X_train,y_train)\n\nprint \"Homogeneity_score = \",metrics.homogeneity_score(y, clf.predict(X))\n\nprint \"Completeness_score = \",metrics.completeness_score(y, clf.predict(X))",
     "language": "python",
     "metadata": {},
     "outputs": [
      {
       "output_type": "stream",
       "stream": "stdout",
       "text": "Homogeneity_score =  0.93004214256\nCompleteness_score =  0.931059738146\n"
      }
     ],
     "prompt_number": 29
    },
    {
     "cell_type": "code",
     "collapsed": false,
     "input": "clf_non_linear = svm.SVC(kernel='rbf')\n\nclf_non_linear.fit(X_train,y_train)\n\nprint \"Homogeneity_score = \",metrics.homogeneity_score(y, clf_non_linear.predict(X))\n\nprint \"Completeness_score = \",metrics.completeness_score(y, clf_non_linear.predict(X))",
     "language": "python",
     "metadata": {},
     "outputs": [
      {
       "output_type": "stream",
       "stream": "stdout",
       "text": "Homogeneity_score =  0.91917582741\nCompleteness_score =  0.919287404377\n"
      }
     ],
     "prompt_number": 30
    },
    {
     "cell_type": "raw",
     "metadata": {},
     "source": "Based on homogenity and completeness scores alone, it appears the decision tree has the best performance with ~.93 for both scores. The non-linear SVM is the next closest with scores of ~.91 for both. KMeans is far behind with only ~.75 for both scores."
    },
    {
     "cell_type": "code",
     "collapsed": false,
     "input": "",
     "language": "python",
     "metadata": {},
     "outputs": []
    }
   ],
   "metadata": {}
  }
 ]
}