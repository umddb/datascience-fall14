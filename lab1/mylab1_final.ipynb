{
 "metadata": {
  "name": "",
  "signature": "sha256:29553315895243310998f754fcabe32462ab9ee7c23c93b9829f343cf134f400"
 },
 "nbformat": 3,
 "nbformat_minor": 0,
 "worksheets": [
  {
   "cells": [
    {
     "cell_type": "code",
     "collapsed": false,
     "input": [
      "# Import and initialization\n",
      "from sklearn.datasets import load_boston\n",
      "import re\n",
      "import numpy as np\n",
      "\n",
      "%pylab inline\n",
      "import matplotlib.pyplot as plt\n",
      "\n"
     ],
     "language": "python",
     "metadata": {},
     "outputs": [
      {
       "output_type": "stream",
       "stream": "stdout",
       "text": [
        "Populating the interactive namespace from numpy and matplotlib\n"
       ]
      }
     ],
     "prompt_number": 2
    },
    {
     "cell_type": "code",
     "collapsed": false,
     "input": [
      "# Exercise #1\n",
      "# Print the number of samples and features\n",
      "\n",
      "# Load the boston house prices dataset\n",
      "boston = load_boston()\n",
      "\n",
      "n_samples, n_features = boston.data.shape\n",
      "print('Number of samples: {0}\\nNumber of features: {1}'.format(n_samples, n_features))"
     ],
     "language": "python",
     "metadata": {},
     "outputs": [
      {
       "output_type": "stream",
       "stream": "stdout",
       "text": [
        "Number of samples: 506\n",
        "Number of features: 13\n"
       ]
      }
     ],
     "prompt_number": 7
    },
    {
     "cell_type": "code",
     "collapsed": false,
     "input": [
      "# List five of the dataset features and their description (Hint: look at the DESCR key in the dataset)\n",
      "features = {}\n",
      "for i in range(5):\n",
      "    p = re.compile('{0}.*\\n'.format(boston.feature_names[i]))\n",
      "    string = re.search(p, boston.DESCR).group()\n",
      "    p2 = re.compile('\\s.*') # so we can not include the key\n",
      "    features[boston.feature_names[i]] = re.search(p2, string).group().strip()\n",
      "    key = boston.feature_names[i]\n",
      "    print('{0}: {1}'.format(key, features[key]))"
     ],
     "language": "python",
     "metadata": {},
     "outputs": [
      {
       "output_type": "stream",
       "stream": "stdout",
       "text": [
        "CRIM: per capita crime rate by town\n",
        "ZN: proportion of residential land zoned for lots over 25,000 sq.ft.\n",
        "INDUS: proportion of non-retail business acres per town\n",
        "CHAS: Charles River dummy variable (= 1 if tract bounds river; 0 otherwise)\n",
        "NOX: nitric oxides concentration (parts per 10 million)\n"
       ]
      }
     ],
     "prompt_number": 4
    },
    {
     "cell_type": "code",
     "collapsed": false,
     "input": [
      "# Finally, generate a scatter plot where the X axis corresponds to one of the features you listed and the \n",
      "# y axis to the price of the houses. Your plot should have the right title and axis labels.\n",
      "y = boston.target\n",
      "x = []\n",
      "for i in range(len(y)):\n",
      "    x.append(boston.data[i][0])\n",
      "    \n",
      "plt.scatter(x,y)\n",
      "plt.xlabel(features['CRIM'])\n",
      "plt.ylabel('Price of house')\n",
      "plt.suptitle('Crime rate vs. price of house')"
     ],
     "language": "python",
     "metadata": {},
     "outputs": [
      {
       "metadata": {},
       "output_type": "pyout",
       "prompt_number": 5,
       "text": [
        "<matplotlib.text.Text at 0xae61cdec>"
       ]
      },
      {
       "metadata": {},
       "output_type": "display_data",
       "png": "[encoded data removed]",
       "text": [
        "<matplotlib.figure.Figure at 0xae61cd2c>"
       ]
      }
     ],
     "prompt_number": 5
    },
    {
     "cell_type": "code",
     "collapsed": false,
     "input": [
      "# Exercise 2.1\n",
      "from sklearn.linear_model import LinearRegression\n",
      "from sklearn.datasets import load_diabetes\n",
      "\n",
      "# Load the diabetes dataset\n",
      "diabetes = load_diabetes()\n",
      "\n",
      "# Split the data into training/testing sets\n",
      "diabetes_X_train = diabetes.data[:-20]\n",
      "diabetes_X_test = diabetes.data[-20:]\n",
      "\n",
      "# Split the targets into training/testing sets\n",
      "diabetes_y_train = diabetes.target[:-20]\n",
      "diabetes_y_test = diabetes.target[-20:]\n",
      "\n",
      "# Create linear regression object\n",
      "regr = LinearRegression()\n",
      "\n",
      "# Train the model using the training sets\n",
      "regr.fit(diabetes_X_train, diabetes_y_train)\n",
      "\n",
      "# The mean square error\n",
      "print(\"Mean Squared Error: %.2f\"\n",
      "      % np.mean((regr.predict(diabetes_X_test) - diabetes_y_test) ** 2))\n",
      "print(\"The mean squared error was about 500 less than it was before, meaning that using all the available \"\n",
      "      + \"features did improve the estimator's performance\")"
     ],
     "language": "python",
     "metadata": {},
     "outputs": [
      {
       "output_type": "stream",
       "stream": "stdout",
       "text": [
        "Mean Squared Error: 2004.57\n",
        "The mean squared error was about 500 less than it was before, meaning that using all the available features did improve the estimator's performance\n"
       ]
      }
     ],
     "prompt_number": 26
    },
    {
     "cell_type": "code",
     "collapsed": false,
     "input": [
      "# Exercise 2.2\n",
      "\n",
      "# Calculate and print the mean squared error when using two features. Is it better to use all the \n",
      "# features (i.e., a more complex model), or does using fewer features (i.e., a simpler model) lead to an \n",
      "# estimator of higher accuracy?\n",
      "\n",
      "from sklearn.feature_selection import RFE\n",
      "\n",
      "# Create the RFE object using two features and rank the features for the diabetes datasets\n",
      "rfe = RFE(estimator=regr, n_features_to_select=2, step=1)\n",
      "rfe.fit(diabetes_X_train,diabetes_y_train)\n",
      "print(\"Mean Squared Error: %.2f\"\n",
      "      % np.mean((rfe.predict(diabetes_X_test) - diabetes_y_test) ** 2))\n",
      "print('The mean squared error was 1984.51, when using 2 features, as opposed to 2004.57, when all features. This'\n",
      "      + ' would lead me to conclude that a simpler model leads to an estimator with a higher accuracy.')\n"
     ],
     "language": "python",
     "metadata": {},
     "outputs": [
      {
       "output_type": "stream",
       "stream": "stdout",
       "text": [
        "Mean Squared Error: 1984.51\n",
        "The mean squared error was 1984.51, when using 2 features, as opposed to 2004.57, when all features. This would lead me to conclude that a simpler model leads to an estimator with a higher accuracy.\n"
       ]
      }
     ],
     "prompt_number": 24
    },
    {
     "cell_type": "code",
     "collapsed": false,
     "input": [
      "# Exercise 2.2 cont.\n",
      "\n",
      "# Plot the mean squared error when using feature selection for 1 to 10 features. What is the optimal number of \n",
      "# features to be used?\n",
      "\n",
      "optimal = []\n",
      "\n",
      "for i in range(1, 11):\n",
      "    rfe = RFE(estimator=regr, n_features_to_select=i, step=1)\n",
      "    rfe.fit(diabetes_X_train,diabetes_y_train)\n",
      "    optimal.append(np.mean((rfe.predict(diabetes_X_test) - diabetes_y_test) ** 2))\n",
      "    \n",
      "lowest = 10000\n",
      "index = 1\n",
      "num_fea = -1\n",
      "for i in optimal:\n",
      "    if i < lowest:\n",
      "        lowest = i\n",
      "        num_fea = index\n",
      "    index += 1\n",
      "\n",
      "print('Number of features: {0}\\nMSE: {1}'.format(num_fea, lowest))\n",
      "print('The optimal number of features to be used is 3. It gives the lowest MSE, which is 1887.60334722')"
     ],
     "language": "python",
     "metadata": {},
     "outputs": [
      {
       "output_type": "stream",
       "stream": "stdout",
       "text": [
        "Number of features: 3\n",
        "MSE: 1887.60334722\n",
        "The optimal number of features to be used is 3. It gives the lowest MSE, which is 1887.60334722\n"
       ]
      }
     ],
     "prompt_number": 22
    },
    {
     "cell_type": "code",
     "collapsed": false,
     "input": [
      "# Exercise 3.1\n",
      "\n",
      "# You will train a set of linear regression estimators to predict the house prices in Boston. Using all the \n",
      "# available features, train different linear regression models for the following training-test data splits: \n",
      "# (a) 20% training, 80% testing, (b) 40% training, 60% testing, (c) 60% training, 40% testing, and (d) 80% training, \n",
      "# 20% testing. Plot the mean squared error for the different configurations.\n",
      "\n",
      "values = [.2, .4, .6, .8] # 20%, 40%, 60%, 80% splits\n",
      "mse = []\n",
      "for val in values:\n",
      "    x = int(boston.data.shape[0] * val)\n",
      "\n",
      "    boston_x_train = boston.data[:x]\n",
      "    boston_x_test = boston.data[x:]\n",
      "\n",
      "    boston_y_train = boston.target[:x]\n",
      "    boston_y_test = boston.target[x:]\n",
      "\n",
      "    # Create linear regression object\n",
      "    regr = LinearRegression()\n",
      "\n",
      "    # Train the model using the training sets\n",
      "    regr.fit(boston_x_train, boston_y_train)\n",
      "\n",
      "    mse.append(np.mean((regr.predict(boston_x_test) - boston_y_test) ** 2))\n",
      "    \n",
      "plt.xlabel('% training split')\n",
      "plt.ylabel('Mean Squared Error')\n",
      "plt.suptitle('Housing Prices Prediction')\n",
      "plt.scatter([20, 40, 60, 80], mse, color='blue')"
     ],
     "language": "python",
     "metadata": {},
     "outputs": [
      {
       "metadata": {},
       "output_type": "pyout",
       "prompt_number": 21,
       "text": [
        "<matplotlib.collections.PathCollection at 0xaddecb8c>"
       ]
      },
      {
       "metadata": {},
       "output_type": "display_data",
       "png": "[encoded data removed]",
       "text": [
        "<matplotlib.figure.Figure at 0xadf868ac>"
       ]
      }
     ],
     "prompt_number": 21
    },
    {
     "cell_type": "code",
     "collapsed": false,
     "input": [
      "# Exercise 3.2\n",
      "\n",
      "# Use recursive feature evaluation to find the best set of features for prediction. Which are these? Using exactly \n",
      "# the same training-test splits you used in Exercise 3.1 plot the mean squared error for a linear regression model \n",
      "# that uses only the set of features you found in the first part of this question.\n",
      "\n",
      "mse = []\n",
      "for i in range(1, len(boston.feature_names) + 1):\n",
      "    x = int(boston.data.shape[0] * .8)\n",
      "\n",
      "    boston_x_train = boston.data[:x]\n",
      "    boston_x_test = boston.data[x:]\n",
      "\n",
      "    boston_y_train = boston.target[:x]\n",
      "    boston_y_test = boston.target[x:]\n",
      "\n",
      "    rfe = RFE(estimator=regr, n_features_to_select=i, step=1)\n",
      "    rfe.fit(boston_x_train, boston_y_train)\n",
      "    mse.append(np.mean((rfe.predict(boston_x_test) - boston_y_test) ** 2))\n",
      "\n",
      "print('{0} is the best set of features for prediction'.format(mse.index(min(mse))))"
     ],
     "language": "python",
     "metadata": {},
     "outputs": [
      {
       "output_type": "stream",
       "stream": "stdout",
       "text": [
        "5 is the best set of features for prediction\n"
       ]
      }
     ],
     "prompt_number": 28
    },
    {
     "cell_type": "code",
     "collapsed": false,
     "input": [
      "# Exercise 3.2 cont.\n",
      "\n",
      "values = [.2, .4, .6, .8]\n",
      "mse = []\n",
      "for val in values:\n",
      "    x = int(boston.data.shape[0] * val)\n",
      "\n",
      "    boston_x_train = boston.data[:x]\n",
      "    boston_x_test = boston.data[x:]\n",
      "\n",
      "    boston_y_train = boston.target[:x]\n",
      "    boston_y_test = boston.target[x:]\n",
      "\n",
      "    rfe = RFE(estimator=regr, n_features_to_select=5, step=1) # 5 is optimal\n",
      "    rfe.fit(boston_x_train, boston_y_train)\n",
      "    mse.append(np.mean((rfe.predict(boston_x_test) - boston_y_test) ** 2))\n",
      "    \n",
      "plt.xlabel('% training split')\n",
      "plt.ylabel('Mean Squared Error')\n",
      "plt.suptitle('Housing Prices Prediction')\n",
      "plt.scatter([20, 40, 60, 80], mse, color='blue')"
     ],
     "language": "python",
     "metadata": {},
     "outputs": [
      {
       "metadata": {},
       "output_type": "pyout",
       "prompt_number": 30,
       "text": [
        "<matplotlib.collections.PathCollection at 0xaddae52c>"
       ]
      },
      {
       "metadata": {},
       "output_type": "display_data",
       "png": "[encoded data removed]",
       "text": [
        "<matplotlib.figure.Figure at 0xadd606ac>"
       ]
      }
     ],
     "prompt_number": 30
    },
    {
     "cell_type": "code",
     "collapsed": false,
     "input": [
      "# Exercise 4"
     ],
     "language": "python",
     "metadata": {},
     "outputs": [],
     "prompt_number": 31
    },
    {
     "cell_type": "code",
     "collapsed": false,
     "input": [
      "# Exercise 4 Part 1\n",
      "\n",
      "# Load the iris dataset presented above. Split the dataset in two sets, one for training and one for testing. \n",
      "# You should use 80% of the data for training and 20% percent for testing. Perform classification on the test data \n",
      "# using a linear and non-linear SVM, calculate the classification error on the testing data and the whole dataset.\n",
      "\n",
      "# Import SVM\n",
      "from sklearn import svm\n",
      "\n",
      "from sklearn.datasets import load_iris\n",
      "iris = load_iris()\n",
      "\n",
      "split = int(iris.data.shape[0] * .8) # 80% training --- 20% testing\n",
      "\n",
      "# Assign the training and testing modules\n",
      "iris_x_train = iris.data[:split]\n",
      "iris_x_test = iris.data[split:]\n",
      "\n",
      "iris_y_train = iris.target[:split]\n",
      "iris_y_test = iris.target[split:]"
     ],
     "language": "python",
     "metadata": {},
     "outputs": [],
     "prompt_number": 35
    },
    {
     "cell_type": "code",
     "collapsed": false,
     "input": [
      "# Exercise 4 Part 1 cont.\n",
      "\n",
      "# Create linear SVM \n",
      "clf_linear = svm.SVC(kernel='linear')\n",
      "\n",
      "# Fit linear SVM\n",
      "clf_linear.fit(iris_x_train, iris_y_train)\n",
      "\n",
      "# Predict class for testing data\n",
      "pred = clf_linear.predict(iris_x_test)\n",
      "\n",
      "print(\"Linear SVM:\")\n",
      "\n",
      "# Calculate prediction error for testing data\n",
      "errors = 0.0\n",
      "for i in range(len(pred)):\n",
      "    if pred[i] != iris_y_test[i]:\n",
      "        errors += 1.0\n",
      "print \"Test data errors = \",errors, \"out of\", len(pred), \"predictions\"\n",
      "\n",
      "# Calculate prediction error for all points\n",
      "total_pred = clf_linear.predict(iris.data)\n",
      "errors = 0.0\n",
      "for i in range(len(total_pred)):\n",
      "    if total_pred[i] != iris.target[i]:\n",
      "        errors += 1.0\n",
      "print \"Total errors = \",errors, \"out of\", len(total_pred), \"predictions\"\n"
     ],
     "language": "python",
     "metadata": {},
     "outputs": [
      {
       "output_type": "stream",
       "stream": "stdout",
       "text": [
        "Linear SVM:\n",
        "Test data errors =  4.0 out of 30 predictions\n",
        "Total errors =  5.0 out of 150 predictions\n"
       ]
      }
     ],
     "prompt_number": 36
    },
    {
     "cell_type": "code",
     "collapsed": false,
     "input": [
      "# Exercise 4 Part 1 cont.\n",
      "\n",
      "# Create non-linear SVM using the Radial Basis Kernel function\n",
      "clf_non_linear = svm.SVC(kernel='rbf')\n",
      "\n",
      "# Fit the svm\n",
      "clf_non_linear.fit(iris_x_train, iris_y_train)\n",
      "\n",
      "print(\"Non-linear SVM:\")\n",
      "\n",
      "# Calculate prediction error for testing data\n",
      "pred = clf_non_linear.predict(iris_x_test)\n",
      "errors = 0.0\n",
      "for i in range(len(pred)):\n",
      "    if pred[i] != iris_y_test[i]:\n",
      "        errors += 1.0\n",
      "print \"Test data errors = \",errors, \"out of\", len(pred), \"predictions\"\n",
      "\n",
      "# Calculate prediction error for all points\n",
      "total_pred = clf_non_linear.predict(iris.data)\n",
      "errors = 0.0\n",
      "for i in range(len(total_pred)):\n",
      "    if total_pred[i] != iris.target[i]:\n",
      "        errors += 1.0\n",
      "print \"Total errors = \",errors, \"out of\", len(total_pred), \"predictions\"\n"
     ],
     "language": "python",
     "metadata": {},
     "outputs": [
      {
       "output_type": "stream",
       "stream": "stdout",
       "text": [
        "Non-linear SVM:\n",
        "Test data errors =  5.0 out of 30 predictions\n",
        "Total errors =  8.0 out of 150 predictions\n"
       ]
      }
     ],
     "prompt_number": 37
    },
    {
     "cell_type": "code",
     "collapsed": false,
     "input": [
      "# Exercise 4 Part 2\n",
      "\n",
      "# Use the DecisionTreeClassifier, import it, and use the ? feature to learn about it. Then instantiate this \n",
      "# model (similar steps to SVC) and apply it to the iris dataset.\n",
      "\n",
      "from sklearn.tree import DecisionTreeClassifier\n",
      "\n",
      "dtc = DecisionTreeClassifier(random_state = 0) # 0 is the seed, as taken from the example in the man page\n",
      "dtc.fit(iris_x_train, iris_y_train) # fit the decision tree\n",
      "\n",
      "print('Decision Tree Classifier:')\n",
      "\n",
      "# Calculate prediction error for testing data\n",
      "pred = dtc.predict(iris_x_test)\n",
      "errors = 0.0\n",
      "for i in range(len(pred)):\n",
      "    if pred[i] != iris_y_test[i]:\n",
      "        errors += 1.0\n",
      "print \"Test data errors = \",errors, \"out of\", len(pred), \"predictions\"\n",
      "\n",
      "# Calculate prediction error for all points\n",
      "total_pred = dtc.predict(iris.data)\n",
      "errors = 0.0\n",
      "for i in range(len(total_pred)):\n",
      "    if total_pred[i] != iris.target[i]:\n",
      "        errors += 1.0\n",
      "print \"Total errors = \",errors, \"out of\", len(total_pred), \"predictions\"\n"
     ],
     "language": "python",
     "metadata": {},
     "outputs": [
      {
       "output_type": "stream",
       "stream": "stdout",
       "text": [
        "Decision Tree Classifier:\n",
        "Test data errors =  7.0 out of 30 predictions\n",
        "Total errors =  7.0 out of 150 predictions\n"
       ]
      }
     ],
     "prompt_number": 39
    },
    {
     "cell_type": "code",
     "collapsed": false,
     "input": [
      "# Exercise 4 Part 2 cont.\n",
      "\n",
      "print(\"Comparing the 3 data sets, linear SVM, non-linear SVM, and Decision Tree Classifier highlighted discrepancies in their error rates.\")\n",
      "print(\"For the test data, the Decision Tree Classifier has the highest error rate, with 7 out of its 30 predictions being incorrect (as opposed to 5 for the non-linear SVM and 4 for the linear SVM).\")\n",
      "print(\"However, the Decision Tree Classifier did perform better than the non-linear SVM when it came to the whole data set.\")\n",
      "print(\"The Decision Tree Classifier had 7 out of its 150 predictions be incorrect, while the non-linear SVM had 8 out of the 150 predictions be incorrect. The linear SVM performed the best again with 5 out of its 150 predictions be wrong.\")"
     ],
     "language": "python",
     "metadata": {},
     "outputs": [
      {
       "output_type": "stream",
       "stream": "stdout",
       "text": [
        "Comparing the 3 data sets, linear SVM, non-linear SVM, and Decision Tree Classifier highlighted discrepancies in their error rates.\n",
        "For the test data, the Decision Tree Classifier has the highest error rate, with 7 out of its 30 predictions being incorrect (as opposed to 5 for the non-linear SVM and 4 for the linear SVM).\n",
        "However, the Decision Tree Classifier did perform better than the non-linear SVM when it came to the whole data set.\n",
        "The Decision Tree Classifier had 7 out of its 150 predictions be incorrect, while the non-linear SVM had 8 out of the 150 predictions be incorrect. The linear SVM performed the best again with 5 out of its 150 predictions be wrong.\n"
       ]
      }
     ],
     "prompt_number": 47
    },
    {
     "cell_type": "code",
     "collapsed": false,
     "input": [
      "# Exercise 5\n",
      "\n",
      "# Apply the k-means algorithm on the iris dataset. Compare its performance with that of the non-linear SVM and\n",
      "# decision tree classifiers using all available features. You can use the homogeneity and completeness metrics \n",
      "# presneted above to perform this comparison.\n",
      "\n",
      "# Import kmeans algorithm and clustering evaluation metrics\n",
      "from sklearn.cluster import KMeans\n",
      "from sklearn import metrics\n",
      "\n",
      "kmeans = KMeans(init='random', n_clusters = 2, n_init=10)\n",
      "kmeans.fit(iris.data)\n",
      "\n",
      "# Homogeneity score: evaluates if each cluster contains only memebers of a single class\n",
      "print \"Homogeneity_score = \",metrics.homogeneity_score(iris.target,kmeans.labels_)\n",
      "\n",
      "# Completeness score: evaluates if all members of a given class are assigned to the same cluster\n",
      "print \"Completeness_score = \",metrics.completeness_score(iris.target,kmeans.labels_)\n"
     ],
     "language": "python",
     "metadata": {},
     "outputs": [
      {
       "output_type": "stream",
       "stream": "stdout",
       "text": [
        "Homogeneity_score =  0.751485402199\n",
        "Completeness_score =  0.764986151449\n"
       ]
      }
     ],
     "prompt_number": 59
    },
    {
     "cell_type": "code",
     "collapsed": false,
     "input": [
      "# Exercise 5 cont.\n",
      "\n",
      "print(\"The homogeneity score of the k-means algorithm was about .522. The completeness score of the k-means algorithm was about .883.\")\n",
      "print(\"Since homogeneity means that each cluster contains only members of a single class, there was some overlap of classes in each cluster.\")\n",
      "print(\"The k-means algorithm fared better in the completeness score, which indicated if all members of a given class are assigned to the same cluster.\")\n",
      "print(\"Relative to the performance of the linear/non-linear SVM and the decision tree classifier, the k-means cluster was not as good.\")"
     ],
     "language": "python",
     "metadata": {},
     "outputs": [
      {
       "output_type": "stream",
       "stream": "stdout",
       "text": [
        "The homogeneity score of the k-means algorithm was about .522. The completeness score of the k-means algorithm was about .883.\n",
        "Since homogeneity means that each cluster contains only members of a single class, there was some overlap of classes in each cluster.\n",
        "The k-means algorithm fared better in the completeness score, which indicated if all members of a given class are assigned to the same cluster.\n",
        "Relative to the performance of the linear/non-linear SVM and the decision tree classifier, the k-means cluster was not as good.\n"
       ]
      }
     ],
     "prompt_number": 61
    },
    {
     "cell_type": "code",
     "collapsed": false,
     "input": [],
     "language": "python",
     "metadata": {},
     "outputs": []
    }
   ],
   "metadata": {}
  }
 ]
}