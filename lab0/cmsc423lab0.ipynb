{
 "metadata": {
  "name": "",
  "signature": "sha256:f1346b5070f79507f4cb27cdd9c4bfd6d91a62d2a7ddc032b7cab231c490e032"
 },
 "nbformat": 3,
 "nbformat_minor": 0,
 "worksheets": [
  {
   "cells": [
    {
     "cell_type": "markdown",
     "metadata": {},
     "source": []
    },
    {
     "cell_type": "code",
     "collapsed": false,
     "input": [
      "with open('/home/victorymike/cmsc498O/datascience-fall14/data/Capital-Bike-Share-June-30-2014.csv', 'r') as file:\n",
      "    input = file.readline()\n",
      "    print input"
     ],
     "language": "python",
     "metadata": {},
     "outputs": [
      {
       "output_type": "stream",
       "stream": "stdout",
       "text": [
        "Duration,Start date,Start Station,Start terminal,End date,End Station,End terminal,Bike#,Subscriber Type\r\n",
        "\n"
       ]
      }
     ],
     "prompt_number": 2
    },
    {
     "cell_type": "markdown",
     "metadata": {},
     "source": [
      "    input2 = file.readline()\n",
      "    print input2"
     ]
    },
    {
     "cell_type": "code",
     "collapsed": false,
     "input": [
      "print input\n"
     ],
     "language": "python",
     "metadata": {},
     "outputs": [
      {
       "output_type": "stream",
       "stream": "stdout",
       "text": [
        "Duration,Start date,Start Station,Start terminal,End date,End Station,End terminal,Bike#,Subscriber Type\r\n",
        "\n"
       ]
      }
     ],
     "prompt_number": 3
    },
    {
     "cell_type": "code",
     "collapsed": false,
     "input": [
      "print file.readline()"
     ],
     "language": "python",
     "metadata": {},
     "outputs": [
      {
       "ename": "ValueError",
       "evalue": "I/O operation on closed file",
       "output_type": "pyerr",
       "traceback": [
        "\u001b[1;31m---------------------------------------------------------------------------\u001b[0m\n\u001b[1;31mValueError\u001b[0m                                Traceback (most recent call last)",
        "\u001b[1;32m<ipython-input-5-24e0d6c399d7>\u001b[0m in \u001b[0;36m<module>\u001b[1;34m()\u001b[0m\n\u001b[1;32m----> 1\u001b[1;33m \u001b[1;32mprint\u001b[0m \u001b[0mfile\u001b[0m\u001b[1;33m.\u001b[0m\u001b[0mreadline\u001b[0m\u001b[1;33m(\u001b[0m\u001b[1;33m)\u001b[0m\u001b[1;33m\u001b[0m\u001b[0m\n\u001b[0m",
        "\u001b[1;31mValueError\u001b[0m: I/O operation on closed file"
       ]
      }
     ],
     "prompt_number": 5
    },
    {
     "cell_type": "code",
     "collapsed": false,
     "input": [
      "data = pd.read_csv('/home/victorymike/cmsc498O/datascience-fall14/data/Capital-Bike-Share-June-30-2014.csv', parse_dates = ['Start date', 'End date'])"
     ],
     "language": "python",
     "metadata": {},
     "outputs": [
      {
       "ename": "NameError",
       "evalue": "name 'pd' is not defined",
       "output_type": "pyerr",
       "traceback": [
        "\u001b[1;31m---------------------------------------------------------------------------\u001b[0m\n\u001b[1;31mNameError\u001b[0m                                 Traceback (most recent call last)",
        "\u001b[1;32m<ipython-input-7-cf58690c87d2>\u001b[0m in \u001b[0;36m<module>\u001b[1;34m()\u001b[0m\n\u001b[1;32m----> 1\u001b[1;33m \u001b[0mdata\u001b[0m \u001b[1;33m=\u001b[0m \u001b[0mpd\u001b[0m\u001b[1;33m.\u001b[0m\u001b[0mread_csv\u001b[0m\u001b[1;33m(\u001b[0m\u001b[1;34m'/home/victorymike/cmsc498O/datascience-fall14/data/Capital-Bike-Share-June-30-2014.csv'\u001b[0m\u001b[1;33m,\u001b[0m \u001b[0mparse_dates\u001b[0m \u001b[1;33m=\u001b[0m \u001b[1;33m[\u001b[0m\u001b[1;34m'Start date'\u001b[0m\u001b[1;33m,\u001b[0m \u001b[1;34m'End date'\u001b[0m\u001b[1;33m]\u001b[0m\u001b[1;33m)\u001b[0m\u001b[1;33m\u001b[0m\u001b[0m\n\u001b[0m",
        "\u001b[1;31mNameError\u001b[0m: name 'pd' is not defined"
       ]
      }
     ],
     "prompt_number": 7
    },
    {
     "cell_type": "code",
     "collapsed": false,
     "input": [
      "import pd\n"
     ],
     "language": "python",
     "metadata": {},
     "outputs": [
      {
       "ename": "ImportError",
       "evalue": "No module named pd",
       "output_type": "pyerr",
       "traceback": [
        "\u001b[1;31m---------------------------------------------------------------------------\u001b[0m\n\u001b[1;31mImportError\u001b[0m                               Traceback (most recent call last)",
        "\u001b[1;32m<ipython-input-8-3d7421ed2fbb>\u001b[0m in \u001b[0;36m<module>\u001b[1;34m()\u001b[0m\n\u001b[1;32m----> 1\u001b[1;33m \u001b[1;32mimport\u001b[0m \u001b[0mpd\u001b[0m\u001b[1;33m\u001b[0m\u001b[0m\n\u001b[0m",
        "\u001b[1;31mImportError\u001b[0m: No module named pd"
       ]
      }
     ],
     "prompt_number": 8
    },
    {
     "cell_type": "code",
     "collapsed": false,
     "input": [
      "import pandas\n"
     ],
     "language": "python",
     "metadata": {},
     "outputs": [],
     "prompt_number": 9
    },
    {
     "cell_type": "code",
     "collapsed": false,
     "input": [
      "data = pd.read_csv('/home/victorymike/cmsc498O/datascience-fall14/data/Capital-Bike-Share-June-30-2014.csv', parse_dates = ['Start date', 'End date'])"
     ],
     "language": "python",
     "metadata": {},
     "outputs": [
      {
       "ename": "NameError",
       "evalue": "name 'pd' is not defined",
       "output_type": "pyerr",
       "traceback": [
        "\u001b[1;31m---------------------------------------------------------------------------\u001b[0m\n\u001b[1;31mNameError\u001b[0m                                 Traceback (most recent call last)",
        "\u001b[1;32m<ipython-input-10-cf58690c87d2>\u001b[0m in \u001b[0;36m<module>\u001b[1;34m()\u001b[0m\n\u001b[1;32m----> 1\u001b[1;33m \u001b[0mdata\u001b[0m \u001b[1;33m=\u001b[0m \u001b[0mpd\u001b[0m\u001b[1;33m.\u001b[0m\u001b[0mread_csv\u001b[0m\u001b[1;33m(\u001b[0m\u001b[1;34m'/home/victorymike/cmsc498O/datascience-fall14/data/Capital-Bike-Share-June-30-2014.csv'\u001b[0m\u001b[1;33m,\u001b[0m \u001b[0mparse_dates\u001b[0m \u001b[1;33m=\u001b[0m \u001b[1;33m[\u001b[0m\u001b[1;34m'Start date'\u001b[0m\u001b[1;33m,\u001b[0m \u001b[1;34m'End date'\u001b[0m\u001b[1;33m]\u001b[0m\u001b[1;33m)\u001b[0m\u001b[1;33m\u001b[0m\u001b[0m\n\u001b[0m",
        "\u001b[1;31mNameError\u001b[0m: name 'pd' is not defined"
       ]
      }
     ],
     "prompt_number": 10
    },
    {
     "cell_type": "code",
     "collapsed": false,
     "input": [
      "data = pandas.read_csv('/home/victorymike/cmsc498O/datascience-fall14/data/Capital-Bike-Share-June-30-2014.csv', parse_dates = ['Start date', 'End date'])"
     ],
     "language": "python",
     "metadata": {},
     "outputs": [],
     "prompt_number": 11
    },
    {
     "cell_type": "code",
     "collapsed": false,
     "input": [
      "data[:5]"
     ],
     "language": "python",
     "metadata": {},
     "outputs": [
      {
       "html": [
        "<div style=\"max-height:1000px;max-width:1500px;overflow:auto;\">\n",
        "<table border=\"1\" class=\"dataframe\">\n",
        "  <thead>\n",
        "    <tr style=\"text-align: right;\">\n",
        "      <th></th>\n",
        "      <th>Duration</th>\n",
        "      <th>Start date</th>\n",
        "      <th>Start Station</th>\n",
        "      <th>Start terminal</th>\n",
        "      <th>End date</th>\n",
        "      <th>End Station</th>\n",
        "      <th>End terminal</th>\n",
        "      <th>Bike#</th>\n",
        "      <th>Subscriber Type</th>\n",
        "    </tr>\n",
        "  </thead>\n",
        "  <tbody>\n",
        "    <tr>\n",
        "      <th>0</th>\n",
        "      <td>  0h 7m 51s</td>\n",
        "      <td>2014-06-30 00:00:00</td>\n",
        "      <td>          37th &amp; O St NW / Georgetown University</td>\n",
        "      <td> 31236</td>\n",
        "      <td>2014-06-30 00:08:00</td>\n",
        "      <td> Rosslyn Metro / Wilson Blvd &amp; Ft Myer Dr</td>\n",
        "      <td> 31015</td>\n",
        "      <td> W00584</td>\n",
        "      <td> Registered</td>\n",
        "    </tr>\n",
        "    <tr>\n",
        "      <th>1</th>\n",
        "      <td> 12h 2m 56s</td>\n",
        "      <td>2014-06-30 00:00:00</td>\n",
        "      <td>                     Columbia Rd &amp; Belmont St NW</td>\n",
        "      <td> 31113</td>\n",
        "      <td>2014-06-30 12:03:00</td>\n",
        "      <td>                  Lamont &amp; Mt Pleasant NW</td>\n",
        "      <td> 31107</td>\n",
        "      <td> W01497</td>\n",
        "      <td> Registered</td>\n",
        "    </tr>\n",
        "    <tr>\n",
        "      <th>2</th>\n",
        "      <td> 0h 12m 51s</td>\n",
        "      <td>2014-06-30 00:01:00</td>\n",
        "      <td>                           17th &amp; Corcoran St NW</td>\n",
        "      <td> 31214</td>\n",
        "      <td>2014-06-30 00:14:00</td>\n",
        "      <td>                  Park Rd &amp; Holmead Pl NW</td>\n",
        "      <td> 31602</td>\n",
        "      <td> W01099</td>\n",
        "      <td> Registered</td>\n",
        "    </tr>\n",
        "    <tr>\n",
        "      <th>3</th>\n",
        "      <td> 0h 11m 46s</td>\n",
        "      <td>2014-06-30 00:01:00</td>\n",
        "      <td> Connecticut Ave &amp; Newark St NW / Cleveland Park</td>\n",
        "      <td> 31305</td>\n",
        "      <td>2014-06-30 00:12:00</td>\n",
        "      <td>               14th &amp; Rhode Island Ave NW</td>\n",
        "      <td> 31203</td>\n",
        "      <td> W21642</td>\n",
        "      <td> Registered</td>\n",
        "    </tr>\n",
        "    <tr>\n",
        "      <th>4</th>\n",
        "      <td>  0h 17m 5s</td>\n",
        "      <td>2014-06-30 00:01:00</td>\n",
        "      <td>                                   Thomas Circle</td>\n",
        "      <td> 31241</td>\n",
        "      <td>2014-06-30 00:18:00</td>\n",
        "      <td>                            7th &amp; T St NW</td>\n",
        "      <td> 31109</td>\n",
        "      <td> W00334</td>\n",
        "      <td> Registered</td>\n",
        "    </tr>\n",
        "  </tbody>\n",
        "</table>\n",
        "</div>"
       ],
       "metadata": {},
       "output_type": "pyout",
       "prompt_number": 12,
       "text": [
        "     Duration          Start date  \\\n",
        "0   0h 7m 51s 2014-06-30 00:00:00   \n",
        "1  12h 2m 56s 2014-06-30 00:00:00   \n",
        "2  0h 12m 51s 2014-06-30 00:01:00   \n",
        "3  0h 11m 46s 2014-06-30 00:01:00   \n",
        "4   0h 17m 5s 2014-06-30 00:01:00   \n",
        "\n",
        "                                     Start Station  Start terminal  \\\n",
        "0           37th & O St NW / Georgetown University           31236   \n",
        "1                      Columbia Rd & Belmont St NW           31113   \n",
        "2                            17th & Corcoran St NW           31214   \n",
        "3  Connecticut Ave & Newark St NW / Cleveland Park           31305   \n",
        "4                                    Thomas Circle           31241   \n",
        "\n",
        "             End date                               End Station  End terminal  \\\n",
        "0 2014-06-30 00:08:00  Rosslyn Metro / Wilson Blvd & Ft Myer Dr         31015   \n",
        "1 2014-06-30 12:03:00                   Lamont & Mt Pleasant NW         31107   \n",
        "2 2014-06-30 00:14:00                   Park Rd & Holmead Pl NW         31602   \n",
        "3 2014-06-30 00:12:00                14th & Rhode Island Ave NW         31203   \n",
        "4 2014-06-30 00:18:00                             7th & T St NW         31109   \n",
        "\n",
        "    Bike# Subscriber Type  \n",
        "0  W00584      Registered  \n",
        "1  W01497      Registered  \n",
        "2  W01099      Registered  \n",
        "3  W21642      Registered  \n",
        "4  W00334      Registered  "
       ]
      }
     ],
     "prompt_number": 12
    },
    {
     "cell_type": "code",
     "collapsed": false,
     "input": [
      "import matplotlib.pyplot as plt\n"
     ],
     "language": "python",
     "metadata": {},
     "outputs": [],
     "prompt_number": 13
    },
    {
     "cell_type": "code",
     "collapsed": false,
     "input": [
      "plt.plot(data['Start date'], range(10604))\n"
     ],
     "language": "python",
     "metadata": {},
     "outputs": [
      {
       "metadata": {},
       "output_type": "pyout",
       "prompt_number": 14,
       "text": [
        "[<matplotlib.lines.Line2D at 0xae53d1cc>]"
       ]
      }
     ],
     "prompt_number": 14
    },
    {
     "cell_type": "code",
     "collapsed": false,
     "input": [
      "hours = pd.DataFrame({'h' : [x.hour for x in data['Start date']]})\n",
      "g = hours.groupby('h')\n",
      "plt.bar(range(24), g['h'].count())\n"
     ],
     "language": "python",
     "metadata": {},
     "outputs": [
      {
       "ename": "NameError",
       "evalue": "name 'pd' is not defined",
       "output_type": "pyerr",
       "traceback": [
        "\u001b[1;31m---------------------------------------------------------------------------\u001b[0m\n\u001b[1;31mNameError\u001b[0m                                 Traceback (most recent call last)",
        "\u001b[1;32m<ipython-input-15-6a5c6bacdf0a>\u001b[0m in \u001b[0;36m<module>\u001b[1;34m()\u001b[0m\n\u001b[1;32m----> 1\u001b[1;33m \u001b[0mhours\u001b[0m \u001b[1;33m=\u001b[0m \u001b[0mpd\u001b[0m\u001b[1;33m.\u001b[0m\u001b[0mDataFrame\u001b[0m\u001b[1;33m(\u001b[0m\u001b[1;33m{\u001b[0m\u001b[1;34m'h'\u001b[0m \u001b[1;33m:\u001b[0m \u001b[1;33m[\u001b[0m\u001b[0mx\u001b[0m\u001b[1;33m.\u001b[0m\u001b[0mhour\u001b[0m \u001b[1;32mfor\u001b[0m \u001b[0mx\u001b[0m \u001b[1;32min\u001b[0m \u001b[0mdata\u001b[0m\u001b[1;33m[\u001b[0m\u001b[1;34m'Start date'\u001b[0m\u001b[1;33m]\u001b[0m\u001b[1;33m]\u001b[0m\u001b[1;33m}\u001b[0m\u001b[1;33m)\u001b[0m\u001b[1;33m\u001b[0m\u001b[0m\n\u001b[0m\u001b[0;32m      2\u001b[0m \u001b[0mg\u001b[0m \u001b[1;33m=\u001b[0m \u001b[0mhours\u001b[0m\u001b[1;33m.\u001b[0m\u001b[0mgroupby\u001b[0m\u001b[1;33m(\u001b[0m\u001b[1;34m'h'\u001b[0m\u001b[1;33m)\u001b[0m\u001b[1;33m\u001b[0m\u001b[0m\n\u001b[0;32m      3\u001b[0m \u001b[0mplt\u001b[0m\u001b[1;33m.\u001b[0m\u001b[0mbar\u001b[0m\u001b[1;33m(\u001b[0m\u001b[0mrange\u001b[0m\u001b[1;33m(\u001b[0m\u001b[1;36m24\u001b[0m\u001b[1;33m)\u001b[0m\u001b[1;33m,\u001b[0m \u001b[0mg\u001b[0m\u001b[1;33m[\u001b[0m\u001b[1;34m'h'\u001b[0m\u001b[1;33m]\u001b[0m\u001b[1;33m.\u001b[0m\u001b[0mcount\u001b[0m\u001b[1;33m(\u001b[0m\u001b[1;33m)\u001b[0m\u001b[1;33m)\u001b[0m\u001b[1;33m\u001b[0m\u001b[0m\n",
        "\u001b[1;31mNameError\u001b[0m: name 'pd' is not defined"
       ]
      }
     ],
     "prompt_number": 15
    },
    {
     "cell_type": "code",
     "collapsed": false,
     "input": [],
     "language": "python",
     "metadata": {},
     "outputs": [],
     "prompt_number": 15
    },
    {
     "cell_type": "code",
     "collapsed": false,
     "input": [
      "%matplotlib inline\n"
     ],
     "language": "python",
     "metadata": {},
     "outputs": [],
     "prompt_number": 17
    },
    {
     "cell_type": "code",
     "collapsed": false,
     "input": [
      "import matplotlib.pyplot as plt\n",
      "import numpy as np\n",
      "import pandas as pd"
     ],
     "language": "python",
     "metadata": {},
     "outputs": [],
     "prompt_number": 18
    },
    {
     "cell_type": "code",
     "collapsed": false,
     "input": [
      "def fibonacci(sequence_length):\n",
      "    \"Return the Fibonacci sequence of length *sequence_length*\"\n",
      "    sequence = [0,1]\n",
      "    if sequence_length < 1:\n",
      "        print \"Fibonacci sequence only defined for length 1 or greater\"\n",
      "        return\n",
      "    if 0 < sequence_length < 3:\n",
      "        return sequence[:sequence_length]\n",
      "    for i in range(2,sequence_length): \n",
      "        sequence.append(sequence[i-1]+sequence[i-2])\n",
      "    return sequence\n"
     ],
     "language": "python",
     "metadata": {},
     "outputs": [],
     "prompt_number": 19
    },
    {
     "cell_type": "code",
     "collapsed": false,
     "input": [
      "plt.plot(fibonacci(10))"
     ],
     "language": "python",
     "metadata": {},
     "outputs": [
      {
       "metadata": {},
       "output_type": "pyout",
       "prompt_number": 20,
       "text": [
        "[<matplotlib.lines.Line2D at 0xae4cadac>]"
       ]
      },
      {
       "metadata": {},
       "output_type": "display_data",
       "png": "[encoded data removed]",
       "text": [
        "<matplotlib.figure.Figure at 0xae6ce60c>"
       ]
      }
     ],
     "prompt_number": 20
    },
    {
     "cell_type": "code",
     "collapsed": false,
     "input": [
      "plt.plot(data['Start date'], range(10604))"
     ],
     "language": "python",
     "metadata": {},
     "outputs": [
      {
       "metadata": {},
       "output_type": "pyout",
       "prompt_number": 21,
       "text": [
        "[<matplotlib.lines.Line2D at 0xae49344c>]"
       ]
      },
      {
       "metadata": {},
       "output_type": "display_data",
       "png": "[encoded data removed]",
       "text": [
        "<matplotlib.figure.Figure at 0xae4dd14c>"
       ]
      }
     ],
     "prompt_number": 21
    },
    {
     "cell_type": "code",
     "collapsed": false,
     "input": [
      "hours = pd.DataFrame({'h' : [x.hour for x in data['Start date']]})\n",
      "g = hours.groupby('h')\n",
      "plt.bar(range(24), g['h'].count())\n"
     ],
     "language": "python",
     "metadata": {},
     "outputs": [
      {
       "metadata": {},
       "output_type": "pyout",
       "prompt_number": 22,
       "text": [
        "<Container object of 24 artists>"
       ]
      },
      {
       "metadata": {},
       "output_type": "display_data",
       "png": "[encoded data removed]",
       "text": [
        "<matplotlib.figure.Figure at 0xae50720c>"
       ]
      }
     ],
     "prompt_number": 22
    },
    {
     "cell_type": "code",
     "collapsed": false,
     "input": [],
     "language": "python",
     "metadata": {},
     "outputs": [],
     "prompt_number": 35
    },
    {
     "cell_type": "code",
     "collapsed": false,
     "input": [
      "data['Start Station'][:7].value_counts().plot(kind='bar')"
     ],
     "language": "python",
     "metadata": {},
     "outputs": [
      {
       "metadata": {},
       "output_type": "pyout",
       "prompt_number": 35,
       "text": [
        "<matplotlib.axes.AxesSubplot at 0xadf76c0c>"
       ]
      },
      {
       "metadata": {},
       "output_type": "display_data",
       "png": "[encoded data removed]",
       "text": [
        "<matplotlib.figure.Figure at 0xae37416c>"
       ]
      }
     ],
     "prompt_number": 35
    },
    {
     "cell_type": "code",
     "collapsed": false,
     "input": [],
     "language": "python",
     "metadata": {},
     "outputs": []
    }
   ],
   "metadata": {}
  }
 ]
}