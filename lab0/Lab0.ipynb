{
 "metadata": {
  "name": "Lab0"
 },
 "nbformat": 3,
 "nbformat_minor": 0,
 "worksheets": [
  {
   "cells": [
    {
     "cell_type": "code",
     "collapsed": false,
     "input": "import os\nimport matplotlib.pyplot as plt\nimport pandas as pd\n\nos.chdir('/home/terrapin/datascience-fall14/data/')\nos.getcwd()",
     "language": "python",
     "metadata": {},
     "outputs": [
      {
       "metadata": {},
       "output_type": "pyout",
       "prompt_number": 1,
       "text": "'/home/terrapin/datascience-fall14/data'"
      }
     ],
     "prompt_number": 1
    },
    {
     "cell_type": "code",
     "collapsed": false,
     "input": "data = pd.read_csv('AirPassengers.csv')\ndata.head()",
     "language": "python",
     "metadata": {},
     "outputs": [
      {
       "html": "<div style=\"max-height:1000px;max-width:1500px;overflow:auto;\">\n<table border=\"1\" class=\"dataframe\">\n  <thead>\n    <tr style=\"text-align: right;\">\n      <th></th>\n      <th>Unnamed: 0</th>\n      <th>time</th>\n      <th>AirPassengers</th>\n    </tr>\n  </thead>\n  <tbody>\n    <tr>\n      <th>0</th>\n      <td> 1</td>\n      <td> 1949.000000</td>\n      <td> 112</td>\n    </tr>\n    <tr>\n      <th>1</th>\n      <td> 2</td>\n      <td> 1949.083333</td>\n      <td> 118</td>\n    </tr>\n    <tr>\n      <th>2</th>\n      <td> 3</td>\n      <td> 1949.166667</td>\n      <td> 132</td>\n    </tr>\n    <tr>\n      <th>3</th>\n      <td> 4</td>\n      <td> 1949.250000</td>\n      <td> 129</td>\n    </tr>\n    <tr>\n      <th>4</th>\n      <td> 5</td>\n      <td> 1949.333333</td>\n      <td> 121</td>\n    </tr>\n  </tbody>\n</table>\n<p>5 rows \u00d7 3 columns</p>\n</div>",
       "metadata": {},
       "output_type": "pyout",
       "prompt_number": 2,
       "text": "   Unnamed: 0         time  AirPassengers\n0           1  1949.000000            112\n1           2  1949.083333            118\n2           3  1949.166667            132\n3           4  1949.250000            129\n4           5  1949.333333            121\n\n[5 rows x 3 columns]"
      }
     ],
     "prompt_number": 2
    },
    {
     "cell_type": "code",
     "collapsed": false,
     "input": "plt.plot(data['AirPassengers'])\nplt.show()",
     "language": "python",
     "metadata": {},
     "outputs": [],
     "prompt_number": 7
    },
    {
     "cell_type": "code",
     "collapsed": false,
     "input": "",
     "language": "python",
     "metadata": {},
     "outputs": []
    }
   ],
   "metadata": {}
  }
 ]
}